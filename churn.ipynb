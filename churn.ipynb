{
 "cells": [
  {
   "cell_type": "code",
   "execution_count": 2,
   "id": "initial_id",
   "metadata": {
    "collapsed": true,
    "ExecuteTime": {
     "end_time": "2024-04-26T13:14:52.182084500Z",
     "start_time": "2024-04-26T13:14:51.582998900Z"
    }
   },
   "outputs": [],
   "source": [
    "import pandas as pd\n",
    "import numpy as np"
   ]
  },
  {
   "cell_type": "code",
   "outputs": [
    {
     "data": {
      "text/plain": "   customerID  gender  SeniorCitizen Partner Dependents  tenure PhoneService  \\\n0  7590-VHVEG  Female              0     Yes         No       1           No   \n1  5575-GNVDE    Male              0      No         No      34          Yes   \n2  3668-QPYBK    Male              0      No         No       2          Yes   \n3  7795-CFOCW    Male              0      No         No      45           No   \n4  9237-HQITU  Female              0      No         No       2          Yes   \n\n      MultipleLines InternetService OnlineSecurity  ... DeviceProtection  \\\n0  No phone service             DSL             No  ...               No   \n1                No             DSL            Yes  ...              Yes   \n2                No             DSL            Yes  ...               No   \n3  No phone service             DSL            Yes  ...              Yes   \n4                No     Fiber optic             No  ...               No   \n\n  TechSupport StreamingTV StreamingMovies        Contract PaperlessBilling  \\\n0          No          No              No  Month-to-month              Yes   \n1          No          No              No        One year               No   \n2          No          No              No  Month-to-month              Yes   \n3         Yes          No              No        One year               No   \n4          No          No              No  Month-to-month              Yes   \n\n               PaymentMethod MonthlyCharges  TotalCharges Churn  \n0           Electronic check          29.85         29.85    No  \n1               Mailed check          56.95        1889.5    No  \n2               Mailed check          53.85        108.15   Yes  \n3  Bank transfer (automatic)          42.30       1840.75    No  \n4           Electronic check          70.70        151.65   Yes  \n\n[5 rows x 21 columns]",
      "text/html": "<div>\n<style scoped>\n    .dataframe tbody tr th:only-of-type {\n        vertical-align: middle;\n    }\n\n    .dataframe tbody tr th {\n        vertical-align: top;\n    }\n\n    .dataframe thead th {\n        text-align: right;\n    }\n</style>\n<table border=\"1\" class=\"dataframe\">\n  <thead>\n    <tr style=\"text-align: right;\">\n      <th></th>\n      <th>customerID</th>\n      <th>gender</th>\n      <th>SeniorCitizen</th>\n      <th>Partner</th>\n      <th>Dependents</th>\n      <th>tenure</th>\n      <th>PhoneService</th>\n      <th>MultipleLines</th>\n      <th>InternetService</th>\n      <th>OnlineSecurity</th>\n      <th>...</th>\n      <th>DeviceProtection</th>\n      <th>TechSupport</th>\n      <th>StreamingTV</th>\n      <th>StreamingMovies</th>\n      <th>Contract</th>\n      <th>PaperlessBilling</th>\n      <th>PaymentMethod</th>\n      <th>MonthlyCharges</th>\n      <th>TotalCharges</th>\n      <th>Churn</th>\n    </tr>\n  </thead>\n  <tbody>\n    <tr>\n      <th>0</th>\n      <td>7590-VHVEG</td>\n      <td>Female</td>\n      <td>0</td>\n      <td>Yes</td>\n      <td>No</td>\n      <td>1</td>\n      <td>No</td>\n      <td>No phone service</td>\n      <td>DSL</td>\n      <td>No</td>\n      <td>...</td>\n      <td>No</td>\n      <td>No</td>\n      <td>No</td>\n      <td>No</td>\n      <td>Month-to-month</td>\n      <td>Yes</td>\n      <td>Electronic check</td>\n      <td>29.85</td>\n      <td>29.85</td>\n      <td>No</td>\n    </tr>\n    <tr>\n      <th>1</th>\n      <td>5575-GNVDE</td>\n      <td>Male</td>\n      <td>0</td>\n      <td>No</td>\n      <td>No</td>\n      <td>34</td>\n      <td>Yes</td>\n      <td>No</td>\n      <td>DSL</td>\n      <td>Yes</td>\n      <td>...</td>\n      <td>Yes</td>\n      <td>No</td>\n      <td>No</td>\n      <td>No</td>\n      <td>One year</td>\n      <td>No</td>\n      <td>Mailed check</td>\n      <td>56.95</td>\n      <td>1889.5</td>\n      <td>No</td>\n    </tr>\n    <tr>\n      <th>2</th>\n      <td>3668-QPYBK</td>\n      <td>Male</td>\n      <td>0</td>\n      <td>No</td>\n      <td>No</td>\n      <td>2</td>\n      <td>Yes</td>\n      <td>No</td>\n      <td>DSL</td>\n      <td>Yes</td>\n      <td>...</td>\n      <td>No</td>\n      <td>No</td>\n      <td>No</td>\n      <td>No</td>\n      <td>Month-to-month</td>\n      <td>Yes</td>\n      <td>Mailed check</td>\n      <td>53.85</td>\n      <td>108.15</td>\n      <td>Yes</td>\n    </tr>\n    <tr>\n      <th>3</th>\n      <td>7795-CFOCW</td>\n      <td>Male</td>\n      <td>0</td>\n      <td>No</td>\n      <td>No</td>\n      <td>45</td>\n      <td>No</td>\n      <td>No phone service</td>\n      <td>DSL</td>\n      <td>Yes</td>\n      <td>...</td>\n      <td>Yes</td>\n      <td>Yes</td>\n      <td>No</td>\n      <td>No</td>\n      <td>One year</td>\n      <td>No</td>\n      <td>Bank transfer (automatic)</td>\n      <td>42.30</td>\n      <td>1840.75</td>\n      <td>No</td>\n    </tr>\n    <tr>\n      <th>4</th>\n      <td>9237-HQITU</td>\n      <td>Female</td>\n      <td>0</td>\n      <td>No</td>\n      <td>No</td>\n      <td>2</td>\n      <td>Yes</td>\n      <td>No</td>\n      <td>Fiber optic</td>\n      <td>No</td>\n      <td>...</td>\n      <td>No</td>\n      <td>No</td>\n      <td>No</td>\n      <td>No</td>\n      <td>Month-to-month</td>\n      <td>Yes</td>\n      <td>Electronic check</td>\n      <td>70.70</td>\n      <td>151.65</td>\n      <td>Yes</td>\n    </tr>\n  </tbody>\n</table>\n<p>5 rows × 21 columns</p>\n</div>"
     },
     "execution_count": 3,
     "metadata": {},
     "output_type": "execute_result"
    }
   ],
   "source": [
    "df = pd.read_csv('./WA_Fn-UseC_-Telco-Customer-Churn.csv')\n",
    "df.head()"
   ],
   "metadata": {
    "collapsed": false,
    "ExecuteTime": {
     "end_time": "2024-04-26T13:14:52.255717700Z",
     "start_time": "2024-04-26T13:14:52.180560600Z"
    }
   },
   "id": "7c788de9c3a25836",
   "execution_count": 3
  },
  {
   "cell_type": "code",
   "outputs": [
    {
     "data": {
      "text/plain": "                                 0             1               2  \\\ncustomerID              7590-VHVEG    5575-GNVDE      3668-QPYBK   \ngender                      Female          Male            Male   \nSeniorCitizen                    0             0               0   \nPartner                        Yes            No              No   \nDependents                      No            No              No   \ntenure                           1            34               2   \nPhoneService                    No           Yes             Yes   \nMultipleLines     No phone service            No              No   \nInternetService                DSL           DSL             DSL   \nOnlineSecurity                  No           Yes             Yes   \nOnlineBackup                   Yes            No             Yes   \nDeviceProtection                No           Yes              No   \nTechSupport                     No            No              No   \nStreamingTV                     No            No              No   \nStreamingMovies                 No            No              No   \nContract            Month-to-month      One year  Month-to-month   \nPaperlessBilling               Yes            No             Yes   \nPaymentMethod     Electronic check  Mailed check    Mailed check   \nMonthlyCharges               29.85         56.95           53.85   \nTotalCharges                 29.85        1889.5          108.15   \nChurn                           No            No             Yes   \n\n                                          3                 4  \ncustomerID                       7795-CFOCW        9237-HQITU  \ngender                                 Male            Female  \nSeniorCitizen                             0                 0  \nPartner                                  No                No  \nDependents                               No                No  \ntenure                                   45                 2  \nPhoneService                             No               Yes  \nMultipleLines              No phone service                No  \nInternetService                         DSL       Fiber optic  \nOnlineSecurity                          Yes                No  \nOnlineBackup                             No                No  \nDeviceProtection                        Yes                No  \nTechSupport                             Yes                No  \nStreamingTV                              No                No  \nStreamingMovies                          No                No  \nContract                           One year    Month-to-month  \nPaperlessBilling                         No               Yes  \nPaymentMethod     Bank transfer (automatic)  Electronic check  \nMonthlyCharges                         42.3              70.7  \nTotalCharges                        1840.75            151.65  \nChurn                                    No               Yes  ",
      "text/html": "<div>\n<style scoped>\n    .dataframe tbody tr th:only-of-type {\n        vertical-align: middle;\n    }\n\n    .dataframe tbody tr th {\n        vertical-align: top;\n    }\n\n    .dataframe thead th {\n        text-align: right;\n    }\n</style>\n<table border=\"1\" class=\"dataframe\">\n  <thead>\n    <tr style=\"text-align: right;\">\n      <th></th>\n      <th>0</th>\n      <th>1</th>\n      <th>2</th>\n      <th>3</th>\n      <th>4</th>\n    </tr>\n  </thead>\n  <tbody>\n    <tr>\n      <th>customerID</th>\n      <td>7590-VHVEG</td>\n      <td>5575-GNVDE</td>\n      <td>3668-QPYBK</td>\n      <td>7795-CFOCW</td>\n      <td>9237-HQITU</td>\n    </tr>\n    <tr>\n      <th>gender</th>\n      <td>Female</td>\n      <td>Male</td>\n      <td>Male</td>\n      <td>Male</td>\n      <td>Female</td>\n    </tr>\n    <tr>\n      <th>SeniorCitizen</th>\n      <td>0</td>\n      <td>0</td>\n      <td>0</td>\n      <td>0</td>\n      <td>0</td>\n    </tr>\n    <tr>\n      <th>Partner</th>\n      <td>Yes</td>\n      <td>No</td>\n      <td>No</td>\n      <td>No</td>\n      <td>No</td>\n    </tr>\n    <tr>\n      <th>Dependents</th>\n      <td>No</td>\n      <td>No</td>\n      <td>No</td>\n      <td>No</td>\n      <td>No</td>\n    </tr>\n    <tr>\n      <th>tenure</th>\n      <td>1</td>\n      <td>34</td>\n      <td>2</td>\n      <td>45</td>\n      <td>2</td>\n    </tr>\n    <tr>\n      <th>PhoneService</th>\n      <td>No</td>\n      <td>Yes</td>\n      <td>Yes</td>\n      <td>No</td>\n      <td>Yes</td>\n    </tr>\n    <tr>\n      <th>MultipleLines</th>\n      <td>No phone service</td>\n      <td>No</td>\n      <td>No</td>\n      <td>No phone service</td>\n      <td>No</td>\n    </tr>\n    <tr>\n      <th>InternetService</th>\n      <td>DSL</td>\n      <td>DSL</td>\n      <td>DSL</td>\n      <td>DSL</td>\n      <td>Fiber optic</td>\n    </tr>\n    <tr>\n      <th>OnlineSecurity</th>\n      <td>No</td>\n      <td>Yes</td>\n      <td>Yes</td>\n      <td>Yes</td>\n      <td>No</td>\n    </tr>\n    <tr>\n      <th>OnlineBackup</th>\n      <td>Yes</td>\n      <td>No</td>\n      <td>Yes</td>\n      <td>No</td>\n      <td>No</td>\n    </tr>\n    <tr>\n      <th>DeviceProtection</th>\n      <td>No</td>\n      <td>Yes</td>\n      <td>No</td>\n      <td>Yes</td>\n      <td>No</td>\n    </tr>\n    <tr>\n      <th>TechSupport</th>\n      <td>No</td>\n      <td>No</td>\n      <td>No</td>\n      <td>Yes</td>\n      <td>No</td>\n    </tr>\n    <tr>\n      <th>StreamingTV</th>\n      <td>No</td>\n      <td>No</td>\n      <td>No</td>\n      <td>No</td>\n      <td>No</td>\n    </tr>\n    <tr>\n      <th>StreamingMovies</th>\n      <td>No</td>\n      <td>No</td>\n      <td>No</td>\n      <td>No</td>\n      <td>No</td>\n    </tr>\n    <tr>\n      <th>Contract</th>\n      <td>Month-to-month</td>\n      <td>One year</td>\n      <td>Month-to-month</td>\n      <td>One year</td>\n      <td>Month-to-month</td>\n    </tr>\n    <tr>\n      <th>PaperlessBilling</th>\n      <td>Yes</td>\n      <td>No</td>\n      <td>Yes</td>\n      <td>No</td>\n      <td>Yes</td>\n    </tr>\n    <tr>\n      <th>PaymentMethod</th>\n      <td>Electronic check</td>\n      <td>Mailed check</td>\n      <td>Mailed check</td>\n      <td>Bank transfer (automatic)</td>\n      <td>Electronic check</td>\n    </tr>\n    <tr>\n      <th>MonthlyCharges</th>\n      <td>29.85</td>\n      <td>56.95</td>\n      <td>53.85</td>\n      <td>42.3</td>\n      <td>70.7</td>\n    </tr>\n    <tr>\n      <th>TotalCharges</th>\n      <td>29.85</td>\n      <td>1889.5</td>\n      <td>108.15</td>\n      <td>1840.75</td>\n      <td>151.65</td>\n    </tr>\n    <tr>\n      <th>Churn</th>\n      <td>No</td>\n      <td>No</td>\n      <td>Yes</td>\n      <td>No</td>\n      <td>Yes</td>\n    </tr>\n  </tbody>\n</table>\n</div>"
     },
     "execution_count": 4,
     "metadata": {},
     "output_type": "execute_result"
    }
   ],
   "source": [
    "df.head().T"
   ],
   "metadata": {
    "collapsed": false,
    "ExecuteTime": {
     "end_time": "2024-04-26T13:14:52.260582900Z",
     "start_time": "2024-04-26T13:14:52.252845900Z"
    }
   },
   "id": "f1bc759c5bfaac70",
   "execution_count": 4
  },
  {
   "cell_type": "code",
   "outputs": [
    {
     "data": {
      "text/plain": "Index(['customerID', 'gender', 'SeniorCitizen', 'Partner', 'Dependents',\n       'tenure', 'PhoneService', 'MultipleLines', 'InternetService',\n       'OnlineSecurity', 'OnlineBackup', 'DeviceProtection', 'TechSupport',\n       'StreamingTV', 'StreamingMovies', 'Contract', 'PaperlessBilling',\n       'PaymentMethod', 'MonthlyCharges', 'TotalCharges', 'Churn'],\n      dtype='object')"
     },
     "execution_count": 5,
     "metadata": {},
     "output_type": "execute_result"
    }
   ],
   "source": [
    "df.columns"
   ],
   "metadata": {
    "collapsed": false,
    "ExecuteTime": {
     "end_time": "2024-04-26T13:14:52.269416500Z",
     "start_time": "2024-04-26T13:14:52.262323500Z"
    }
   },
   "id": "fce72b6699570d94",
   "execution_count": 5
  },
  {
   "cell_type": "code",
   "outputs": [
    {
     "data": {
      "text/plain": "21"
     },
     "execution_count": 6,
     "metadata": {},
     "output_type": "execute_result"
    }
   ],
   "source": [
    "len(df.columns)"
   ],
   "metadata": {
    "collapsed": false,
    "ExecuteTime": {
     "end_time": "2024-04-26T13:14:52.273803100Z",
     "start_time": "2024-04-26T13:14:52.267907600Z"
    }
   },
   "id": "eee9a02512e4c4cd",
   "execution_count": 6
  },
  {
   "cell_type": "code",
   "outputs": [
    {
     "data": {
      "text/plain": "7043"
     },
     "execution_count": 7,
     "metadata": {},
     "output_type": "execute_result"
    }
   ],
   "source": [
    "len(df)"
   ],
   "metadata": {
    "collapsed": false,
    "ExecuteTime": {
     "end_time": "2024-04-26T13:14:52.333369200Z",
     "start_time": "2024-04-26T13:14:52.275356100Z"
    }
   },
   "id": "e32374b345a66c3f",
   "execution_count": 7
  },
  {
   "cell_type": "code",
   "outputs": [
    {
     "name": "stdout",
     "output_type": "stream",
     "text": [
      "customerID           object\n",
      "gender               object\n",
      "SeniorCitizen         int64\n",
      "Partner              object\n",
      "Dependents           object\n",
      "tenure                int64\n",
      "PhoneService         object\n",
      "MultipleLines        object\n",
      "InternetService      object\n",
      "OnlineSecurity       object\n",
      "OnlineBackup         object\n",
      "DeviceProtection     object\n",
      "TechSupport          object\n",
      "StreamingTV          object\n",
      "StreamingMovies      object\n",
      "Contract             object\n",
      "PaperlessBilling     object\n",
      "PaymentMethod        object\n",
      "MonthlyCharges      float64\n",
      "TotalCharges         object\n",
      "Churn                object\n",
      "dtype: object\n"
     ]
    }
   ],
   "source": [
    "print(df.dtypes)"
   ],
   "metadata": {
    "collapsed": false,
    "ExecuteTime": {
     "end_time": "2024-04-26T13:14:52.369652100Z",
     "start_time": "2024-04-26T13:14:52.282157100Z"
    }
   },
   "id": "fcc1f485d1b8c573",
   "execution_count": 8
  },
  {
   "cell_type": "code",
   "outputs": [],
   "source": [
    "df.TotalCharges = pd.to_numeric(df.TotalCharges, errors='coerce')"
   ],
   "metadata": {
    "collapsed": false,
    "ExecuteTime": {
     "end_time": "2024-04-26T13:14:52.415196400Z",
     "start_time": "2024-04-26T13:14:52.287146200Z"
    }
   },
   "id": "9cfaeeb0a72149ed",
   "execution_count": 9
  },
  {
   "cell_type": "code",
   "outputs": [
    {
     "data": {
      "text/plain": "TotalCharges\nFalse    7032\nTrue       11\nName: count, dtype: int64"
     },
     "execution_count": 10,
     "metadata": {},
     "output_type": "execute_result"
    }
   ],
   "source": [
    "df.TotalCharges.isna().value_counts()"
   ],
   "metadata": {
    "collapsed": false,
    "ExecuteTime": {
     "end_time": "2024-04-26T13:14:52.465225200Z",
     "start_time": "2024-04-26T13:14:52.294920200Z"
    }
   },
   "id": "d090e03d5f54e73c",
   "execution_count": 10
  },
  {
   "cell_type": "code",
   "outputs": [
    {
     "data": {
      "text/plain": "TotalCharges\nFalse    7043\nName: count, dtype: int64"
     },
     "execution_count": 11,
     "metadata": {},
     "output_type": "execute_result"
    }
   ],
   "source": [
    "df.TotalCharges = df.TotalCharges.fillna(0)\n",
    "df.TotalCharges.isna().value_counts()"
   ],
   "metadata": {
    "collapsed": false,
    "ExecuteTime": {
     "end_time": "2024-04-26T13:14:52.467622100Z",
     "start_time": "2024-04-26T13:14:52.305243200Z"
    }
   },
   "id": "d28d15fc3e4489aa",
   "execution_count": 11
  },
  {
   "cell_type": "code",
   "outputs": [],
   "source": [
    "def make_data_uniform(df):\n",
    "    \n",
    "    df.columns = df.columns.str.lower().str.replace(' ', '_')\n",
    "    string_columns = list(df.dtypes[df.dtypes == 'object'].index)\n",
    "    \n",
    "    for col in string_columns:\n",
    "        df[col] = df[col].str.lower().str.replace(' ', '_')\n"
   ],
   "metadata": {
    "collapsed": false,
    "ExecuteTime": {
     "end_time": "2024-04-26T13:14:52.468127300Z",
     "start_time": "2024-04-26T13:14:52.309421Z"
    }
   },
   "id": "4fb02cc02de8c3c7",
   "execution_count": 12
  },
  {
   "cell_type": "code",
   "outputs": [],
   "source": [
    "make_data_uniform(df)"
   ],
   "metadata": {
    "collapsed": false,
    "ExecuteTime": {
     "end_time": "2024-04-26T13:14:52.524971500Z",
     "start_time": "2024-04-26T13:14:52.315928700Z"
    }
   },
   "id": "b4a02938aa8d31ac",
   "execution_count": 13
  },
  {
   "cell_type": "code",
   "outputs": [
    {
     "data": {
      "text/plain": "                                 0             1               2  \\\ncustomerid              7590-vhveg    5575-gnvde      3668-qpybk   \ngender                      female          male            male   \nseniorcitizen                    0             0               0   \npartner                        yes            no              no   \ndependents                      no            no              no   \ntenure                           1            34               2   \nphoneservice                    no           yes             yes   \nmultiplelines     no_phone_service            no              no   \ninternetservice                dsl           dsl             dsl   \nonlinesecurity                  no           yes             yes   \nonlinebackup                   yes            no             yes   \ndeviceprotection                no           yes              no   \ntechsupport                     no            no              no   \nstreamingtv                     no            no              no   \nstreamingmovies                 no            no              no   \ncontract            month-to-month      one_year  month-to-month   \npaperlessbilling               yes            no             yes   \npaymentmethod     electronic_check  mailed_check    mailed_check   \nmonthlycharges               29.85         56.95           53.85   \ntotalcharges                 29.85        1889.5          108.15   \nchurn                           no            no             yes   \n\n                                          3                 4  \ncustomerid                       7795-cfocw        9237-hqitu  \ngender                                 male            female  \nseniorcitizen                             0                 0  \npartner                                  no                no  \ndependents                               no                no  \ntenure                                   45                 2  \nphoneservice                             no               yes  \nmultiplelines              no_phone_service                no  \ninternetservice                         dsl       fiber_optic  \nonlinesecurity                          yes                no  \nonlinebackup                             no                no  \ndeviceprotection                        yes                no  \ntechsupport                             yes                no  \nstreamingtv                              no                no  \nstreamingmovies                          no                no  \ncontract                           one_year    month-to-month  \npaperlessbilling                         no               yes  \npaymentmethod     bank_transfer_(automatic)  electronic_check  \nmonthlycharges                         42.3              70.7  \ntotalcharges                        1840.75            151.65  \nchurn                                    no               yes  ",
      "text/html": "<div>\n<style scoped>\n    .dataframe tbody tr th:only-of-type {\n        vertical-align: middle;\n    }\n\n    .dataframe tbody tr th {\n        vertical-align: top;\n    }\n\n    .dataframe thead th {\n        text-align: right;\n    }\n</style>\n<table border=\"1\" class=\"dataframe\">\n  <thead>\n    <tr style=\"text-align: right;\">\n      <th></th>\n      <th>0</th>\n      <th>1</th>\n      <th>2</th>\n      <th>3</th>\n      <th>4</th>\n    </tr>\n  </thead>\n  <tbody>\n    <tr>\n      <th>customerid</th>\n      <td>7590-vhveg</td>\n      <td>5575-gnvde</td>\n      <td>3668-qpybk</td>\n      <td>7795-cfocw</td>\n      <td>9237-hqitu</td>\n    </tr>\n    <tr>\n      <th>gender</th>\n      <td>female</td>\n      <td>male</td>\n      <td>male</td>\n      <td>male</td>\n      <td>female</td>\n    </tr>\n    <tr>\n      <th>seniorcitizen</th>\n      <td>0</td>\n      <td>0</td>\n      <td>0</td>\n      <td>0</td>\n      <td>0</td>\n    </tr>\n    <tr>\n      <th>partner</th>\n      <td>yes</td>\n      <td>no</td>\n      <td>no</td>\n      <td>no</td>\n      <td>no</td>\n    </tr>\n    <tr>\n      <th>dependents</th>\n      <td>no</td>\n      <td>no</td>\n      <td>no</td>\n      <td>no</td>\n      <td>no</td>\n    </tr>\n    <tr>\n      <th>tenure</th>\n      <td>1</td>\n      <td>34</td>\n      <td>2</td>\n      <td>45</td>\n      <td>2</td>\n    </tr>\n    <tr>\n      <th>phoneservice</th>\n      <td>no</td>\n      <td>yes</td>\n      <td>yes</td>\n      <td>no</td>\n      <td>yes</td>\n    </tr>\n    <tr>\n      <th>multiplelines</th>\n      <td>no_phone_service</td>\n      <td>no</td>\n      <td>no</td>\n      <td>no_phone_service</td>\n      <td>no</td>\n    </tr>\n    <tr>\n      <th>internetservice</th>\n      <td>dsl</td>\n      <td>dsl</td>\n      <td>dsl</td>\n      <td>dsl</td>\n      <td>fiber_optic</td>\n    </tr>\n    <tr>\n      <th>onlinesecurity</th>\n      <td>no</td>\n      <td>yes</td>\n      <td>yes</td>\n      <td>yes</td>\n      <td>no</td>\n    </tr>\n    <tr>\n      <th>onlinebackup</th>\n      <td>yes</td>\n      <td>no</td>\n      <td>yes</td>\n      <td>no</td>\n      <td>no</td>\n    </tr>\n    <tr>\n      <th>deviceprotection</th>\n      <td>no</td>\n      <td>yes</td>\n      <td>no</td>\n      <td>yes</td>\n      <td>no</td>\n    </tr>\n    <tr>\n      <th>techsupport</th>\n      <td>no</td>\n      <td>no</td>\n      <td>no</td>\n      <td>yes</td>\n      <td>no</td>\n    </tr>\n    <tr>\n      <th>streamingtv</th>\n      <td>no</td>\n      <td>no</td>\n      <td>no</td>\n      <td>no</td>\n      <td>no</td>\n    </tr>\n    <tr>\n      <th>streamingmovies</th>\n      <td>no</td>\n      <td>no</td>\n      <td>no</td>\n      <td>no</td>\n      <td>no</td>\n    </tr>\n    <tr>\n      <th>contract</th>\n      <td>month-to-month</td>\n      <td>one_year</td>\n      <td>month-to-month</td>\n      <td>one_year</td>\n      <td>month-to-month</td>\n    </tr>\n    <tr>\n      <th>paperlessbilling</th>\n      <td>yes</td>\n      <td>no</td>\n      <td>yes</td>\n      <td>no</td>\n      <td>yes</td>\n    </tr>\n    <tr>\n      <th>paymentmethod</th>\n      <td>electronic_check</td>\n      <td>mailed_check</td>\n      <td>mailed_check</td>\n      <td>bank_transfer_(automatic)</td>\n      <td>electronic_check</td>\n    </tr>\n    <tr>\n      <th>monthlycharges</th>\n      <td>29.85</td>\n      <td>56.95</td>\n      <td>53.85</td>\n      <td>42.3</td>\n      <td>70.7</td>\n    </tr>\n    <tr>\n      <th>totalcharges</th>\n      <td>29.85</td>\n      <td>1889.5</td>\n      <td>108.15</td>\n      <td>1840.75</td>\n      <td>151.65</td>\n    </tr>\n    <tr>\n      <th>churn</th>\n      <td>no</td>\n      <td>no</td>\n      <td>yes</td>\n      <td>no</td>\n      <td>yes</td>\n    </tr>\n  </tbody>\n</table>\n</div>"
     },
     "execution_count": 14,
     "metadata": {},
     "output_type": "execute_result"
    }
   ],
   "source": [
    "df.head().T"
   ],
   "metadata": {
    "collapsed": false,
    "ExecuteTime": {
     "end_time": "2024-04-26T13:14:52.570641200Z",
     "start_time": "2024-04-26T13:14:52.373097700Z"
    }
   },
   "id": "623880f89ed6ccbc",
   "execution_count": 14
  },
  {
   "cell_type": "code",
   "outputs": [
    {
     "data": {
      "text/plain": "0.2653698707936959"
     },
     "execution_count": 15,
     "metadata": {},
     "output_type": "execute_result"
    }
   ],
   "source": [
    "# Convert target 'churn' from categorical to numeric\n",
    "df.churn = (df.churn == 'yes').astype(int)\n",
    "df.churn.mean()"
   ],
   "metadata": {
    "collapsed": false,
    "ExecuteTime": {
     "end_time": "2024-04-26T13:14:52.572049100Z",
     "start_time": "2024-04-26T13:14:52.384473Z"
    }
   },
   "id": "a64fa90f518a4ef5",
   "execution_count": 15
  },
  {
   "cell_type": "code",
   "outputs": [],
   "source": [
    "# Split into train, test, and val\n",
    "from sklearn.model_selection import train_test_split\n",
    "\n",
    "df_train_full, df_test = train_test_split(df, test_size=0.2, random_state=1)\n",
    "df_train, df_val = train_test_split(df_train_full, test_size=0.33, random_state=1)\n",
    "\n",
    "y_train = df_train.churn\n",
    "y_val = df_val.churn\n",
    "\n",
    "del df_train['churn']\n",
    "del df_val['churn']"
   ],
   "metadata": {
    "collapsed": false,
    "ExecuteTime": {
     "end_time": "2024-04-26T13:14:53.651745300Z",
     "start_time": "2024-04-26T13:14:52.393731600Z"
    }
   },
   "id": "2656b046aa2f3e45",
   "execution_count": 16
  },
  {
   "cell_type": "code",
   "outputs": [
    {
     "data": {
      "text/plain": "customerid          0\ngender              0\nseniorcitizen       0\npartner             0\ndependents          0\ntenure              0\nphoneservice        0\nmultiplelines       0\ninternetservice     0\nonlinesecurity      0\nonlinebackup        0\ndeviceprotection    0\ntechsupport         0\nstreamingtv         0\nstreamingmovies     0\ncontract            0\npaperlessbilling    0\npaymentmethod       0\nmonthlycharges      0\ntotalcharges        0\nchurn               0\ndtype: int64"
     },
     "execution_count": 17,
     "metadata": {},
     "output_type": "execute_result"
    }
   ],
   "source": [
    "df_train_full.isnull().sum()"
   ],
   "metadata": {
    "collapsed": false,
    "ExecuteTime": {
     "end_time": "2024-04-26T13:14:53.672183200Z",
     "start_time": "2024-04-26T13:14:53.653745300Z"
    }
   },
   "id": "4d40cae65947ac59",
   "execution_count": 17
  },
  {
   "cell_type": "code",
   "outputs": [],
   "source": [
    "global_mean = df_train_full.churn.mean()"
   ],
   "metadata": {
    "collapsed": false,
    "ExecuteTime": {
     "end_time": "2024-04-26T13:14:53.673704800Z",
     "start_time": "2024-04-26T13:14:53.668744200Z"
    }
   },
   "id": "382ee98e72d7f543",
   "execution_count": 18
  },
  {
   "cell_type": "code",
   "outputs": [],
   "source": [
    "def separate_data(df):\n",
    "    \n",
    "    columns = list(df.columns)\n",
    "    data_types = list(df.dtypes)\n",
    "    n = len(df.columns)\n",
    "    categorical = []\n",
    "    numerical = []\n",
    "    \n",
    "    for i in range(n):\n",
    "        \n",
    "        if data_types[i] == 'object':\n",
    "            categorical.append(columns[i])\n",
    "        else:\n",
    "            numerical.append(columns[i])\n",
    "            \n",
    "    return categorical, numerical"
   ],
   "metadata": {
    "collapsed": false,
    "ExecuteTime": {
     "end_time": "2024-04-26T13:14:53.690914600Z",
     "start_time": "2024-04-26T13:14:53.675572700Z"
    }
   },
   "id": "f08e6ff5e5ca0354",
   "execution_count": 19
  },
  {
   "cell_type": "code",
   "outputs": [],
   "source": [
    "categorical = ['gender', 'seniorcitizen', 'partner', 'dependents',\n",
    "               'phoneservice', 'multiplelines', 'internetservice',\n",
    "               'onlinesecurity', 'onlinebackup', 'deviceprotection',\n",
    "               'techsupport', 'streamingtv', 'streamingmovies',\n",
    "               'contract', 'paperlessbilling', 'paymentmethod']\n",
    "\n",
    "numerical = ['tenure', 'monthlycharges', 'totalcharges']"
   ],
   "metadata": {
    "collapsed": false,
    "ExecuteTime": {
     "end_time": "2024-04-26T13:14:53.693348800Z",
     "start_time": "2024-04-26T13:14:53.678610200Z"
    }
   },
   "id": "b54cacf146b58b7b",
   "execution_count": 20
  },
  {
   "cell_type": "code",
   "outputs": [
    {
     "data": {
      "text/plain": "gender              2\nseniorcitizen       2\npartner             2\ndependents          2\nphoneservice        2\nmultiplelines       3\ninternetservice     3\nonlinesecurity      3\nonlinebackup        3\ndeviceprotection    3\ntechsupport         3\nstreamingtv         3\nstreamingmovies     3\ncontract            3\npaperlessbilling    2\npaymentmethod       4\ndtype: int64"
     },
     "execution_count": 21,
     "metadata": {},
     "output_type": "execute_result"
    }
   ],
   "source": [
    "df_train_full[categorical].nunique()"
   ],
   "metadata": {
    "collapsed": false,
    "ExecuteTime": {
     "end_time": "2024-04-26T13:14:53.708530300Z",
     "start_time": "2024-04-26T13:14:53.683768900Z"
    }
   },
   "id": "82ed452196ba724",
   "execution_count": 21
  },
  {
   "cell_type": "code",
   "outputs": [
    {
     "data": {
      "text/plain": "0.2632135306553911"
     },
     "execution_count": 22,
     "metadata": {},
     "output_type": "execute_result"
    }
   ],
   "source": [
    "df_train_full[df_train_full.gender == 'male'].churn.mean()"
   ],
   "metadata": {
    "collapsed": false,
    "ExecuteTime": {
     "end_time": "2024-04-26T13:14:53.742798300Z",
     "start_time": "2024-04-26T13:14:53.706365500Z"
    }
   },
   "id": "92c6da50e56c26dc",
   "execution_count": 22
  },
  {
   "cell_type": "code",
   "outputs": [
    {
     "data": {
      "text/plain": "0.27682403433476394"
     },
     "execution_count": 23,
     "metadata": {},
     "output_type": "execute_result"
    }
   ],
   "source": [
    "df_train_full[df_train_full.gender == 'female'].churn.mean()"
   ],
   "metadata": {
    "collapsed": false,
    "ExecuteTime": {
     "end_time": "2024-04-26T13:14:53.745301100Z",
     "start_time": "2024-04-26T13:14:53.714602Z"
    }
   },
   "id": "adf785ed4239cc8a",
   "execution_count": 23
  },
  {
   "cell_type": "code",
   "outputs": [
    {
     "data": {
      "text/plain": "0.20503330866025166"
     },
     "execution_count": 24,
     "metadata": {},
     "output_type": "execute_result"
    }
   ],
   "source": [
    "df_train_full[df_train_full.partner == 'yes'].churn.mean()"
   ],
   "metadata": {
    "collapsed": false,
    "ExecuteTime": {
     "end_time": "2024-04-26T13:14:53.759641300Z",
     "start_time": "2024-04-26T13:14:53.725407800Z"
    }
   },
   "id": "a899bb555899638c",
   "execution_count": 24
  },
  {
   "cell_type": "code",
   "outputs": [
    {
     "data": {
      "text/plain": "0.3298090040927694"
     },
     "execution_count": 25,
     "metadata": {},
     "output_type": "execute_result"
    }
   ],
   "source": [
    "df_train_full[df_train_full.partner == 'no'].churn.mean()"
   ],
   "metadata": {
    "collapsed": false,
    "ExecuteTime": {
     "end_time": "2024-04-26T13:14:53.761692700Z",
     "start_time": "2024-04-26T13:14:53.734440800Z"
    }
   },
   "id": "7d512d205fc6a047",
   "execution_count": 25
  },
  {
   "cell_type": "code",
   "outputs": [
    {
     "data": {
      "text/plain": "            mean      diff      risk\ngender                              \nfemale  0.276824  0.006856  1.025396\nmale    0.263214 -0.006755  0.974980",
      "text/html": "<div>\n<style scoped>\n    .dataframe tbody tr th:only-of-type {\n        vertical-align: middle;\n    }\n\n    .dataframe tbody tr th {\n        vertical-align: top;\n    }\n\n    .dataframe thead th {\n        text-align: right;\n    }\n</style>\n<table border=\"1\" class=\"dataframe\">\n  <thead>\n    <tr style=\"text-align: right;\">\n      <th></th>\n      <th>mean</th>\n      <th>diff</th>\n      <th>risk</th>\n    </tr>\n    <tr>\n      <th>gender</th>\n      <th></th>\n      <th></th>\n      <th></th>\n    </tr>\n  </thead>\n  <tbody>\n    <tr>\n      <th>female</th>\n      <td>0.276824</td>\n      <td>0.006856</td>\n      <td>1.025396</td>\n    </tr>\n    <tr>\n      <th>male</th>\n      <td>0.263214</td>\n      <td>-0.006755</td>\n      <td>0.974980</td>\n    </tr>\n  </tbody>\n</table>\n</div>"
     },
     "execution_count": 26,
     "metadata": {},
     "output_type": "execute_result"
    }
   ],
   "source": [
    "# Checking risk ratio\n",
    "\n",
    "df_group = df_train_full.groupby(by='gender').churn.agg(['mean'])\n",
    "df_group['diff'] = df_group['mean'] - global_mean\n",
    "df_group['risk'] = df_group['mean'] / global_mean\n",
    "\n",
    "df_group"
   ],
   "metadata": {
    "collapsed": false,
    "ExecuteTime": {
     "end_time": "2024-04-26T13:14:53.835937600Z",
     "start_time": "2024-04-26T13:14:53.743835300Z"
    }
   },
   "id": "cccd14a1a0b3daf5",
   "execution_count": 26
  },
  {
   "cell_type": "code",
   "outputs": [
    {
     "data": {
      "text/plain": "            mean      diff      risk\ngender                              \nfemale  0.276824  0.006856  1.025396\nmale    0.263214 -0.006755  0.974980",
      "text/html": "<div>\n<style scoped>\n    .dataframe tbody tr th:only-of-type {\n        vertical-align: middle;\n    }\n\n    .dataframe tbody tr th {\n        vertical-align: top;\n    }\n\n    .dataframe thead th {\n        text-align: right;\n    }\n</style>\n<table border=\"1\" class=\"dataframe\">\n  <thead>\n    <tr style=\"text-align: right;\">\n      <th></th>\n      <th>mean</th>\n      <th>diff</th>\n      <th>risk</th>\n    </tr>\n    <tr>\n      <th>gender</th>\n      <th></th>\n      <th></th>\n      <th></th>\n    </tr>\n  </thead>\n  <tbody>\n    <tr>\n      <th>female</th>\n      <td>0.276824</td>\n      <td>0.006856</td>\n      <td>1.025396</td>\n    </tr>\n    <tr>\n      <th>male</th>\n      <td>0.263214</td>\n      <td>-0.006755</td>\n      <td>0.974980</td>\n    </tr>\n  </tbody>\n</table>\n</div>"
     },
     "metadata": {},
     "output_type": "display_data"
    },
    {
     "data": {
      "text/plain": "                   mean      diff      risk\nseniorcitizen                              \n0              0.242270 -0.027698  0.897403\n1              0.413377  0.143409  1.531208",
      "text/html": "<div>\n<style scoped>\n    .dataframe tbody tr th:only-of-type {\n        vertical-align: middle;\n    }\n\n    .dataframe tbody tr th {\n        vertical-align: top;\n    }\n\n    .dataframe thead th {\n        text-align: right;\n    }\n</style>\n<table border=\"1\" class=\"dataframe\">\n  <thead>\n    <tr style=\"text-align: right;\">\n      <th></th>\n      <th>mean</th>\n      <th>diff</th>\n      <th>risk</th>\n    </tr>\n    <tr>\n      <th>seniorcitizen</th>\n      <th></th>\n      <th></th>\n      <th></th>\n    </tr>\n  </thead>\n  <tbody>\n    <tr>\n      <th>0</th>\n      <td>0.242270</td>\n      <td>-0.027698</td>\n      <td>0.897403</td>\n    </tr>\n    <tr>\n      <th>1</th>\n      <td>0.413377</td>\n      <td>0.143409</td>\n      <td>1.531208</td>\n    </tr>\n  </tbody>\n</table>\n</div>"
     },
     "metadata": {},
     "output_type": "display_data"
    },
    {
     "data": {
      "text/plain": "             mean      diff      risk\npartner                              \nno       0.329809  0.059841  1.221659\nyes      0.205033 -0.064935  0.759472",
      "text/html": "<div>\n<style scoped>\n    .dataframe tbody tr th:only-of-type {\n        vertical-align: middle;\n    }\n\n    .dataframe tbody tr th {\n        vertical-align: top;\n    }\n\n    .dataframe thead th {\n        text-align: right;\n    }\n</style>\n<table border=\"1\" class=\"dataframe\">\n  <thead>\n    <tr style=\"text-align: right;\">\n      <th></th>\n      <th>mean</th>\n      <th>diff</th>\n      <th>risk</th>\n    </tr>\n    <tr>\n      <th>partner</th>\n      <th></th>\n      <th></th>\n      <th></th>\n    </tr>\n  </thead>\n  <tbody>\n    <tr>\n      <th>no</th>\n      <td>0.329809</td>\n      <td>0.059841</td>\n      <td>1.221659</td>\n    </tr>\n    <tr>\n      <th>yes</th>\n      <td>0.205033</td>\n      <td>-0.064935</td>\n      <td>0.759472</td>\n    </tr>\n  </tbody>\n</table>\n</div>"
     },
     "metadata": {},
     "output_type": "display_data"
    },
    {
     "data": {
      "text/plain": "                mean      diff      risk\ndependents                              \nno          0.313760  0.043792  1.162212\nyes         0.165666 -0.104302  0.613651",
      "text/html": "<div>\n<style scoped>\n    .dataframe tbody tr th:only-of-type {\n        vertical-align: middle;\n    }\n\n    .dataframe tbody tr th {\n        vertical-align: top;\n    }\n\n    .dataframe thead th {\n        text-align: right;\n    }\n</style>\n<table border=\"1\" class=\"dataframe\">\n  <thead>\n    <tr style=\"text-align: right;\">\n      <th></th>\n      <th>mean</th>\n      <th>diff</th>\n      <th>risk</th>\n    </tr>\n    <tr>\n      <th>dependents</th>\n      <th></th>\n      <th></th>\n      <th></th>\n    </tr>\n  </thead>\n  <tbody>\n    <tr>\n      <th>no</th>\n      <td>0.313760</td>\n      <td>0.043792</td>\n      <td>1.162212</td>\n    </tr>\n    <tr>\n      <th>yes</th>\n      <td>0.165666</td>\n      <td>-0.104302</td>\n      <td>0.613651</td>\n    </tr>\n  </tbody>\n</table>\n</div>"
     },
     "metadata": {},
     "output_type": "display_data"
    },
    {
     "data": {
      "text/plain": "                  mean      diff      risk\nphoneservice                              \nno            0.241316 -0.028652  0.893870\nyes           0.273049  0.003081  1.011412",
      "text/html": "<div>\n<style scoped>\n    .dataframe tbody tr th:only-of-type {\n        vertical-align: middle;\n    }\n\n    .dataframe tbody tr th {\n        vertical-align: top;\n    }\n\n    .dataframe thead th {\n        text-align: right;\n    }\n</style>\n<table border=\"1\" class=\"dataframe\">\n  <thead>\n    <tr style=\"text-align: right;\">\n      <th></th>\n      <th>mean</th>\n      <th>diff</th>\n      <th>risk</th>\n    </tr>\n    <tr>\n      <th>phoneservice</th>\n      <th></th>\n      <th></th>\n      <th></th>\n    </tr>\n  </thead>\n  <tbody>\n    <tr>\n      <th>no</th>\n      <td>0.241316</td>\n      <td>-0.028652</td>\n      <td>0.893870</td>\n    </tr>\n    <tr>\n      <th>yes</th>\n      <td>0.273049</td>\n      <td>0.003081</td>\n      <td>1.011412</td>\n    </tr>\n  </tbody>\n</table>\n</div>"
     },
     "metadata": {},
     "output_type": "display_data"
    },
    {
     "data": {
      "text/plain": "                      mean      diff      risk\nmultiplelines                                 \nno                0.257407 -0.012561  0.953474\nno_phone_service  0.241316 -0.028652  0.893870\nyes               0.290742  0.020773  1.076948",
      "text/html": "<div>\n<style scoped>\n    .dataframe tbody tr th:only-of-type {\n        vertical-align: middle;\n    }\n\n    .dataframe tbody tr th {\n        vertical-align: top;\n    }\n\n    .dataframe thead th {\n        text-align: right;\n    }\n</style>\n<table border=\"1\" class=\"dataframe\">\n  <thead>\n    <tr style=\"text-align: right;\">\n      <th></th>\n      <th>mean</th>\n      <th>diff</th>\n      <th>risk</th>\n    </tr>\n    <tr>\n      <th>multiplelines</th>\n      <th></th>\n      <th></th>\n      <th></th>\n    </tr>\n  </thead>\n  <tbody>\n    <tr>\n      <th>no</th>\n      <td>0.257407</td>\n      <td>-0.012561</td>\n      <td>0.953474</td>\n    </tr>\n    <tr>\n      <th>no_phone_service</th>\n      <td>0.241316</td>\n      <td>-0.028652</td>\n      <td>0.893870</td>\n    </tr>\n    <tr>\n      <th>yes</th>\n      <td>0.290742</td>\n      <td>0.020773</td>\n      <td>1.076948</td>\n    </tr>\n  </tbody>\n</table>\n</div>"
     },
     "metadata": {},
     "output_type": "display_data"
    },
    {
     "data": {
      "text/plain": "                     mean      diff      risk\ninternetservice                              \ndsl              0.192347 -0.077621  0.712482\nfiber_optic      0.425171  0.155203  1.574895\nno               0.077805 -0.192163  0.288201",
      "text/html": "<div>\n<style scoped>\n    .dataframe tbody tr th:only-of-type {\n        vertical-align: middle;\n    }\n\n    .dataframe tbody tr th {\n        vertical-align: top;\n    }\n\n    .dataframe thead th {\n        text-align: right;\n    }\n</style>\n<table border=\"1\" class=\"dataframe\">\n  <thead>\n    <tr style=\"text-align: right;\">\n      <th></th>\n      <th>mean</th>\n      <th>diff</th>\n      <th>risk</th>\n    </tr>\n    <tr>\n      <th>internetservice</th>\n      <th></th>\n      <th></th>\n      <th></th>\n    </tr>\n  </thead>\n  <tbody>\n    <tr>\n      <th>dsl</th>\n      <td>0.192347</td>\n      <td>-0.077621</td>\n      <td>0.712482</td>\n    </tr>\n    <tr>\n      <th>fiber_optic</th>\n      <td>0.425171</td>\n      <td>0.155203</td>\n      <td>1.574895</td>\n    </tr>\n    <tr>\n      <th>no</th>\n      <td>0.077805</td>\n      <td>-0.192163</td>\n      <td>0.288201</td>\n    </tr>\n  </tbody>\n</table>\n</div>"
     },
     "metadata": {},
     "output_type": "display_data"
    },
    {
     "data": {
      "text/plain": "                         mean      diff      risk\nonlinesecurity                                   \nno                   0.420921  0.150953  1.559152\nno_internet_service  0.077805 -0.192163  0.288201\nyes                  0.153226 -0.116742  0.567570",
      "text/html": "<div>\n<style scoped>\n    .dataframe tbody tr th:only-of-type {\n        vertical-align: middle;\n    }\n\n    .dataframe tbody tr th {\n        vertical-align: top;\n    }\n\n    .dataframe thead th {\n        text-align: right;\n    }\n</style>\n<table border=\"1\" class=\"dataframe\">\n  <thead>\n    <tr style=\"text-align: right;\">\n      <th></th>\n      <th>mean</th>\n      <th>diff</th>\n      <th>risk</th>\n    </tr>\n    <tr>\n      <th>onlinesecurity</th>\n      <th></th>\n      <th></th>\n      <th></th>\n    </tr>\n  </thead>\n  <tbody>\n    <tr>\n      <th>no</th>\n      <td>0.420921</td>\n      <td>0.150953</td>\n      <td>1.559152</td>\n    </tr>\n    <tr>\n      <th>no_internet_service</th>\n      <td>0.077805</td>\n      <td>-0.192163</td>\n      <td>0.288201</td>\n    </tr>\n    <tr>\n      <th>yes</th>\n      <td>0.153226</td>\n      <td>-0.116742</td>\n      <td>0.567570</td>\n    </tr>\n  </tbody>\n</table>\n</div>"
     },
     "metadata": {},
     "output_type": "display_data"
    },
    {
     "data": {
      "text/plain": "                         mean      diff      risk\nonlinebackup                                     \nno                   0.404323  0.134355  1.497672\nno_internet_service  0.077805 -0.192163  0.288201\nyes                  0.217232 -0.052736  0.804660",
      "text/html": "<div>\n<style scoped>\n    .dataframe tbody tr th:only-of-type {\n        vertical-align: middle;\n    }\n\n    .dataframe tbody tr th {\n        vertical-align: top;\n    }\n\n    .dataframe thead th {\n        text-align: right;\n    }\n</style>\n<table border=\"1\" class=\"dataframe\">\n  <thead>\n    <tr style=\"text-align: right;\">\n      <th></th>\n      <th>mean</th>\n      <th>diff</th>\n      <th>risk</th>\n    </tr>\n    <tr>\n      <th>onlinebackup</th>\n      <th></th>\n      <th></th>\n      <th></th>\n    </tr>\n  </thead>\n  <tbody>\n    <tr>\n      <th>no</th>\n      <td>0.404323</td>\n      <td>0.134355</td>\n      <td>1.497672</td>\n    </tr>\n    <tr>\n      <th>no_internet_service</th>\n      <td>0.077805</td>\n      <td>-0.192163</td>\n      <td>0.288201</td>\n    </tr>\n    <tr>\n      <th>yes</th>\n      <td>0.217232</td>\n      <td>-0.052736</td>\n      <td>0.804660</td>\n    </tr>\n  </tbody>\n</table>\n</div>"
     },
     "metadata": {},
     "output_type": "display_data"
    },
    {
     "data": {
      "text/plain": "                         mean      diff      risk\ndeviceprotection                                 \nno                   0.395875  0.125907  1.466379\nno_internet_service  0.077805 -0.192163  0.288201\nyes                  0.230412 -0.039556  0.853480",
      "text/html": "<div>\n<style scoped>\n    .dataframe tbody tr th:only-of-type {\n        vertical-align: middle;\n    }\n\n    .dataframe tbody tr th {\n        vertical-align: top;\n    }\n\n    .dataframe thead th {\n        text-align: right;\n    }\n</style>\n<table border=\"1\" class=\"dataframe\">\n  <thead>\n    <tr style=\"text-align: right;\">\n      <th></th>\n      <th>mean</th>\n      <th>diff</th>\n      <th>risk</th>\n    </tr>\n    <tr>\n      <th>deviceprotection</th>\n      <th></th>\n      <th></th>\n      <th></th>\n    </tr>\n  </thead>\n  <tbody>\n    <tr>\n      <th>no</th>\n      <td>0.395875</td>\n      <td>0.125907</td>\n      <td>1.466379</td>\n    </tr>\n    <tr>\n      <th>no_internet_service</th>\n      <td>0.077805</td>\n      <td>-0.192163</td>\n      <td>0.288201</td>\n    </tr>\n    <tr>\n      <th>yes</th>\n      <td>0.230412</td>\n      <td>-0.039556</td>\n      <td>0.853480</td>\n    </tr>\n  </tbody>\n</table>\n</div>"
     },
     "metadata": {},
     "output_type": "display_data"
    },
    {
     "data": {
      "text/plain": "                         mean      diff      risk\ntechsupport                                      \nno                   0.418914  0.148946  1.551717\nno_internet_service  0.077805 -0.192163  0.288201\nyes                  0.159926 -0.110042  0.592390",
      "text/html": "<div>\n<style scoped>\n    .dataframe tbody tr th:only-of-type {\n        vertical-align: middle;\n    }\n\n    .dataframe tbody tr th {\n        vertical-align: top;\n    }\n\n    .dataframe thead th {\n        text-align: right;\n    }\n</style>\n<table border=\"1\" class=\"dataframe\">\n  <thead>\n    <tr style=\"text-align: right;\">\n      <th></th>\n      <th>mean</th>\n      <th>diff</th>\n      <th>risk</th>\n    </tr>\n    <tr>\n      <th>techsupport</th>\n      <th></th>\n      <th></th>\n      <th></th>\n    </tr>\n  </thead>\n  <tbody>\n    <tr>\n      <th>no</th>\n      <td>0.418914</td>\n      <td>0.148946</td>\n      <td>1.551717</td>\n    </tr>\n    <tr>\n      <th>no_internet_service</th>\n      <td>0.077805</td>\n      <td>-0.192163</td>\n      <td>0.288201</td>\n    </tr>\n    <tr>\n      <th>yes</th>\n      <td>0.159926</td>\n      <td>-0.110042</td>\n      <td>0.592390</td>\n    </tr>\n  </tbody>\n</table>\n</div>"
     },
     "metadata": {},
     "output_type": "display_data"
    },
    {
     "data": {
      "text/plain": "                         mean      diff      risk\nstreamingtv                                      \nno                   0.342832  0.072864  1.269897\nno_internet_service  0.077805 -0.192163  0.288201\nyes                  0.302723  0.032755  1.121328",
      "text/html": "<div>\n<style scoped>\n    .dataframe tbody tr th:only-of-type {\n        vertical-align: middle;\n    }\n\n    .dataframe tbody tr th {\n        vertical-align: top;\n    }\n\n    .dataframe thead th {\n        text-align: right;\n    }\n</style>\n<table border=\"1\" class=\"dataframe\">\n  <thead>\n    <tr style=\"text-align: right;\">\n      <th></th>\n      <th>mean</th>\n      <th>diff</th>\n      <th>risk</th>\n    </tr>\n    <tr>\n      <th>streamingtv</th>\n      <th></th>\n      <th></th>\n      <th></th>\n    </tr>\n  </thead>\n  <tbody>\n    <tr>\n      <th>no</th>\n      <td>0.342832</td>\n      <td>0.072864</td>\n      <td>1.269897</td>\n    </tr>\n    <tr>\n      <th>no_internet_service</th>\n      <td>0.077805</td>\n      <td>-0.192163</td>\n      <td>0.288201</td>\n    </tr>\n    <tr>\n      <th>yes</th>\n      <td>0.302723</td>\n      <td>0.032755</td>\n      <td>1.121328</td>\n    </tr>\n  </tbody>\n</table>\n</div>"
     },
     "metadata": {},
     "output_type": "display_data"
    },
    {
     "data": {
      "text/plain": "                         mean      diff      risk\nstreamingmovies                                  \nno                   0.338906  0.068938  1.255358\nno_internet_service  0.077805 -0.192163  0.288201\nyes                  0.307273  0.037305  1.138182",
      "text/html": "<div>\n<style scoped>\n    .dataframe tbody tr th:only-of-type {\n        vertical-align: middle;\n    }\n\n    .dataframe tbody tr th {\n        vertical-align: top;\n    }\n\n    .dataframe thead th {\n        text-align: right;\n    }\n</style>\n<table border=\"1\" class=\"dataframe\">\n  <thead>\n    <tr style=\"text-align: right;\">\n      <th></th>\n      <th>mean</th>\n      <th>diff</th>\n      <th>risk</th>\n    </tr>\n    <tr>\n      <th>streamingmovies</th>\n      <th></th>\n      <th></th>\n      <th></th>\n    </tr>\n  </thead>\n  <tbody>\n    <tr>\n      <th>no</th>\n      <td>0.338906</td>\n      <td>0.068938</td>\n      <td>1.255358</td>\n    </tr>\n    <tr>\n      <th>no_internet_service</th>\n      <td>0.077805</td>\n      <td>-0.192163</td>\n      <td>0.288201</td>\n    </tr>\n    <tr>\n      <th>yes</th>\n      <td>0.307273</td>\n      <td>0.037305</td>\n      <td>1.138182</td>\n    </tr>\n  </tbody>\n</table>\n</div>"
     },
     "metadata": {},
     "output_type": "display_data"
    },
    {
     "data": {
      "text/plain": "                    mean      diff      risk\ncontract                                    \nmonth-to-month  0.431701  0.161733  1.599082\none_year        0.120573 -0.149395  0.446621\ntwo_year        0.028274 -0.241694  0.104730",
      "text/html": "<div>\n<style scoped>\n    .dataframe tbody tr th:only-of-type {\n        vertical-align: middle;\n    }\n\n    .dataframe tbody tr th {\n        vertical-align: top;\n    }\n\n    .dataframe thead th {\n        text-align: right;\n    }\n</style>\n<table border=\"1\" class=\"dataframe\">\n  <thead>\n    <tr style=\"text-align: right;\">\n      <th></th>\n      <th>mean</th>\n      <th>diff</th>\n      <th>risk</th>\n    </tr>\n    <tr>\n      <th>contract</th>\n      <th></th>\n      <th></th>\n      <th></th>\n    </tr>\n  </thead>\n  <tbody>\n    <tr>\n      <th>month-to-month</th>\n      <td>0.431701</td>\n      <td>0.161733</td>\n      <td>1.599082</td>\n    </tr>\n    <tr>\n      <th>one_year</th>\n      <td>0.120573</td>\n      <td>-0.149395</td>\n      <td>0.446621</td>\n    </tr>\n    <tr>\n      <th>two_year</th>\n      <td>0.028274</td>\n      <td>-0.241694</td>\n      <td>0.104730</td>\n    </tr>\n  </tbody>\n</table>\n</div>"
     },
     "metadata": {},
     "output_type": "display_data"
    },
    {
     "data": {
      "text/plain": "                      mean      diff      risk\npaperlessbilling                              \nno                0.172071 -0.097897  0.637375\nyes               0.338151  0.068183  1.252560",
      "text/html": "<div>\n<style scoped>\n    .dataframe tbody tr th:only-of-type {\n        vertical-align: middle;\n    }\n\n    .dataframe tbody tr th {\n        vertical-align: top;\n    }\n\n    .dataframe thead th {\n        text-align: right;\n    }\n</style>\n<table border=\"1\" class=\"dataframe\">\n  <thead>\n    <tr style=\"text-align: right;\">\n      <th></th>\n      <th>mean</th>\n      <th>diff</th>\n      <th>risk</th>\n    </tr>\n    <tr>\n      <th>paperlessbilling</th>\n      <th></th>\n      <th></th>\n      <th></th>\n    </tr>\n  </thead>\n  <tbody>\n    <tr>\n      <th>no</th>\n      <td>0.172071</td>\n      <td>-0.097897</td>\n      <td>0.637375</td>\n    </tr>\n    <tr>\n      <th>yes</th>\n      <td>0.338151</td>\n      <td>0.068183</td>\n      <td>1.252560</td>\n    </tr>\n  </tbody>\n</table>\n</div>"
     },
     "metadata": {},
     "output_type": "display_data"
    },
    {
     "data": {
      "text/plain": "                               mean      diff      risk\npaymentmethod                                          \nbank_transfer_(automatic)  0.168171 -0.101797  0.622928\ncredit_card_(automatic)    0.164339 -0.105630  0.608733\nelectronic_check           0.455890  0.185922  1.688682\nmailed_check               0.193870 -0.076098  0.718121",
      "text/html": "<div>\n<style scoped>\n    .dataframe tbody tr th:only-of-type {\n        vertical-align: middle;\n    }\n\n    .dataframe tbody tr th {\n        vertical-align: top;\n    }\n\n    .dataframe thead th {\n        text-align: right;\n    }\n</style>\n<table border=\"1\" class=\"dataframe\">\n  <thead>\n    <tr style=\"text-align: right;\">\n      <th></th>\n      <th>mean</th>\n      <th>diff</th>\n      <th>risk</th>\n    </tr>\n    <tr>\n      <th>paymentmethod</th>\n      <th></th>\n      <th></th>\n      <th></th>\n    </tr>\n  </thead>\n  <tbody>\n    <tr>\n      <th>bank_transfer_(automatic)</th>\n      <td>0.168171</td>\n      <td>-0.101797</td>\n      <td>0.622928</td>\n    </tr>\n    <tr>\n      <th>credit_card_(automatic)</th>\n      <td>0.164339</td>\n      <td>-0.105630</td>\n      <td>0.608733</td>\n    </tr>\n    <tr>\n      <th>electronic_check</th>\n      <td>0.455890</td>\n      <td>0.185922</td>\n      <td>1.688682</td>\n    </tr>\n    <tr>\n      <th>mailed_check</th>\n      <td>0.193870</td>\n      <td>-0.076098</td>\n      <td>0.718121</td>\n    </tr>\n  </tbody>\n</table>\n</div>"
     },
     "metadata": {},
     "output_type": "display_data"
    }
   ],
   "source": [
    "from IPython.display import display\n",
    "\n",
    "for col in categorical:\n",
    "    df_group = df_train_full.groupby(by=col).churn.agg(['mean'])\n",
    "    df_group['diff'] = df_group['mean'] - global_mean\n",
    "    df_group['risk'] = df_group['mean'] / global_mean\n",
    "    display(df_group)\n"
   ],
   "metadata": {
    "collapsed": false,
    "ExecuteTime": {
     "end_time": "2024-04-26T13:14:53.890294100Z",
     "start_time": "2024-04-26T13:14:53.759130200Z"
    }
   },
   "id": "399c5f8bf9eea1b2",
   "execution_count": 27
  },
  {
   "cell_type": "code",
   "outputs": [
    {
     "data": {
      "text/plain": "                        MI\ncontract          0.098320\nonlinesecurity    0.063085\ntechsupport       0.061032\ninternetservice   0.055868\nonlinebackup      0.046923\ndeviceprotection  0.043453\npaymentmethod     0.043210\nstreamingtv       0.031853\nstreamingmovies   0.031581\npaperlessbilling  0.017589\ndependents        0.012346\npartner           0.009968\nseniorcitizen     0.009410\nmultiplelines     0.000857\nphoneservice      0.000229\ngender            0.000117",
      "text/html": "<div>\n<style scoped>\n    .dataframe tbody tr th:only-of-type {\n        vertical-align: middle;\n    }\n\n    .dataframe tbody tr th {\n        vertical-align: top;\n    }\n\n    .dataframe thead th {\n        text-align: right;\n    }\n</style>\n<table border=\"1\" class=\"dataframe\">\n  <thead>\n    <tr style=\"text-align: right;\">\n      <th></th>\n      <th>MI</th>\n    </tr>\n  </thead>\n  <tbody>\n    <tr>\n      <th>contract</th>\n      <td>0.098320</td>\n    </tr>\n    <tr>\n      <th>onlinesecurity</th>\n      <td>0.063085</td>\n    </tr>\n    <tr>\n      <th>techsupport</th>\n      <td>0.061032</td>\n    </tr>\n    <tr>\n      <th>internetservice</th>\n      <td>0.055868</td>\n    </tr>\n    <tr>\n      <th>onlinebackup</th>\n      <td>0.046923</td>\n    </tr>\n    <tr>\n      <th>deviceprotection</th>\n      <td>0.043453</td>\n    </tr>\n    <tr>\n      <th>paymentmethod</th>\n      <td>0.043210</td>\n    </tr>\n    <tr>\n      <th>streamingtv</th>\n      <td>0.031853</td>\n    </tr>\n    <tr>\n      <th>streamingmovies</th>\n      <td>0.031581</td>\n    </tr>\n    <tr>\n      <th>paperlessbilling</th>\n      <td>0.017589</td>\n    </tr>\n    <tr>\n      <th>dependents</th>\n      <td>0.012346</td>\n    </tr>\n    <tr>\n      <th>partner</th>\n      <td>0.009968</td>\n    </tr>\n    <tr>\n      <th>seniorcitizen</th>\n      <td>0.009410</td>\n    </tr>\n    <tr>\n      <th>multiplelines</th>\n      <td>0.000857</td>\n    </tr>\n    <tr>\n      <th>phoneservice</th>\n      <td>0.000229</td>\n    </tr>\n    <tr>\n      <th>gender</th>\n      <td>0.000117</td>\n    </tr>\n  </tbody>\n</table>\n</div>"
     },
     "execution_count": 28,
     "metadata": {},
     "output_type": "execute_result"
    }
   ],
   "source": [
    "# Correlation bw categorical variables\n",
    "\n",
    "from sklearn.metrics import mutual_info_score\n",
    "\n",
    "def calculate_mi(series):\n",
    "    return mutual_info_score(series, df_train_full.churn)\n",
    "\n",
    "df_mi = df_train_full[categorical].apply(calculate_mi)\n",
    "df_mi = df_mi.sort_values(ascending=False).to_frame(name='MI')\n",
    "df_mi"
   ],
   "metadata": {
    "collapsed": false,
    "ExecuteTime": {
     "end_time": "2024-04-26T13:14:54.576109800Z",
     "start_time": "2024-04-26T13:14:53.853249400Z"
    }
   },
   "id": "ee97f8702a3b23a5",
   "execution_count": 28
  },
  {
   "cell_type": "code",
   "outputs": [
    {
     "data": {
      "text/plain": "tenure           -0.351885\nmonthlycharges    0.196805\ntotalcharges     -0.196353\ndtype: float64"
     },
     "execution_count": 29,
     "metadata": {},
     "output_type": "execute_result"
    }
   ],
   "source": [
    "df_train_full[numerical].corrwith(df_train_full.churn)"
   ],
   "metadata": {
    "collapsed": false,
    "ExecuteTime": {
     "end_time": "2024-04-26T13:14:54.662748800Z",
     "start_time": "2024-04-26T13:14:53.983535100Z"
    }
   },
   "id": "4ede5a26dda4e492",
   "execution_count": 29
  },
  {
   "cell_type": "code",
   "outputs": [],
   "source": [
    "# One-hot encoding the categorical variables\n",
    "\n",
    "from sklearn.feature_extraction import DictVectorizer\n",
    "\n",
    "train_dict = df_train[categorical+numerical].to_dict(orient='records')\n",
    "dv = DictVectorizer(sparse=False)\n",
    "dv.fit(train_dict)\n",
    "\n",
    "X_train = dv.transform(train_dict)"
   ],
   "metadata": {
    "collapsed": false,
    "ExecuteTime": {
     "end_time": "2024-04-26T13:14:54.913750200Z",
     "start_time": "2024-04-26T13:14:54.032475700Z"
    }
   },
   "id": "20c0acab74ee83f",
   "execution_count": 30
  },
  {
   "cell_type": "code",
   "outputs": [
    {
     "data": {
      "text/plain": "array(['contract=month-to-month', 'contract=one_year',\n       'contract=two_year', 'dependents=no', 'dependents=yes',\n       'deviceprotection=no', 'deviceprotection=no_internet_service',\n       'deviceprotection=yes', 'gender=female', 'gender=male',\n       'internetservice=dsl', 'internetservice=fiber_optic',\n       'internetservice=no', 'monthlycharges', 'multiplelines=no',\n       'multiplelines=no_phone_service', 'multiplelines=yes',\n       'onlinebackup=no', 'onlinebackup=no_internet_service',\n       'onlinebackup=yes', 'onlinesecurity=no',\n       'onlinesecurity=no_internet_service', 'onlinesecurity=yes',\n       'paperlessbilling=no', 'paperlessbilling=yes', 'partner=no',\n       'partner=yes', 'paymentmethod=bank_transfer_(automatic)',\n       'paymentmethod=credit_card_(automatic)',\n       'paymentmethod=electronic_check', 'paymentmethod=mailed_check',\n       'phoneservice=no', 'phoneservice=yes', 'seniorcitizen',\n       'streamingmovies=no', 'streamingmovies=no_internet_service',\n       'streamingmovies=yes', 'streamingtv=no',\n       'streamingtv=no_internet_service', 'streamingtv=yes',\n       'techsupport=no', 'techsupport=no_internet_service',\n       'techsupport=yes', 'tenure', 'totalcharges'], dtype=object)"
     },
     "execution_count": 31,
     "metadata": {},
     "output_type": "execute_result"
    }
   ],
   "source": [
    "dv.get_feature_names_out()"
   ],
   "metadata": {
    "collapsed": false,
    "ExecuteTime": {
     "end_time": "2024-04-26T13:14:54.915751100Z",
     "start_time": "2024-04-26T13:14:54.204484600Z"
    }
   },
   "id": "2f35ac30982c4e7e",
   "execution_count": 31
  },
  {
   "cell_type": "code",
   "outputs": [
    {
     "data": {
      "text/plain": "LogisticRegression(random_state=1, solver='liblinear')",
      "text/html": "<style>#sk-container-id-1 {color: black;}#sk-container-id-1 pre{padding: 0;}#sk-container-id-1 div.sk-toggleable {background-color: white;}#sk-container-id-1 label.sk-toggleable__label {cursor: pointer;display: block;width: 100%;margin-bottom: 0;padding: 0.3em;box-sizing: border-box;text-align: center;}#sk-container-id-1 label.sk-toggleable__label-arrow:before {content: \"▸\";float: left;margin-right: 0.25em;color: #696969;}#sk-container-id-1 label.sk-toggleable__label-arrow:hover:before {color: black;}#sk-container-id-1 div.sk-estimator:hover label.sk-toggleable__label-arrow:before {color: black;}#sk-container-id-1 div.sk-toggleable__content {max-height: 0;max-width: 0;overflow: hidden;text-align: left;background-color: #f0f8ff;}#sk-container-id-1 div.sk-toggleable__content pre {margin: 0.2em;color: black;border-radius: 0.25em;background-color: #f0f8ff;}#sk-container-id-1 input.sk-toggleable__control:checked~div.sk-toggleable__content {max-height: 200px;max-width: 100%;overflow: auto;}#sk-container-id-1 input.sk-toggleable__control:checked~label.sk-toggleable__label-arrow:before {content: \"▾\";}#sk-container-id-1 div.sk-estimator input.sk-toggleable__control:checked~label.sk-toggleable__label {background-color: #d4ebff;}#sk-container-id-1 div.sk-label input.sk-toggleable__control:checked~label.sk-toggleable__label {background-color: #d4ebff;}#sk-container-id-1 input.sk-hidden--visually {border: 0;clip: rect(1px 1px 1px 1px);clip: rect(1px, 1px, 1px, 1px);height: 1px;margin: -1px;overflow: hidden;padding: 0;position: absolute;width: 1px;}#sk-container-id-1 div.sk-estimator {font-family: monospace;background-color: #f0f8ff;border: 1px dotted black;border-radius: 0.25em;box-sizing: border-box;margin-bottom: 0.5em;}#sk-container-id-1 div.sk-estimator:hover {background-color: #d4ebff;}#sk-container-id-1 div.sk-parallel-item::after {content: \"\";width: 100%;border-bottom: 1px solid gray;flex-grow: 1;}#sk-container-id-1 div.sk-label:hover label.sk-toggleable__label {background-color: #d4ebff;}#sk-container-id-1 div.sk-serial::before {content: \"\";position: absolute;border-left: 1px solid gray;box-sizing: border-box;top: 0;bottom: 0;left: 50%;z-index: 0;}#sk-container-id-1 div.sk-serial {display: flex;flex-direction: column;align-items: center;background-color: white;padding-right: 0.2em;padding-left: 0.2em;position: relative;}#sk-container-id-1 div.sk-item {position: relative;z-index: 1;}#sk-container-id-1 div.sk-parallel {display: flex;align-items: stretch;justify-content: center;background-color: white;position: relative;}#sk-container-id-1 div.sk-item::before, #sk-container-id-1 div.sk-parallel-item::before {content: \"\";position: absolute;border-left: 1px solid gray;box-sizing: border-box;top: 0;bottom: 0;left: 50%;z-index: -1;}#sk-container-id-1 div.sk-parallel-item {display: flex;flex-direction: column;z-index: 1;position: relative;background-color: white;}#sk-container-id-1 div.sk-parallel-item:first-child::after {align-self: flex-end;width: 50%;}#sk-container-id-1 div.sk-parallel-item:last-child::after {align-self: flex-start;width: 50%;}#sk-container-id-1 div.sk-parallel-item:only-child::after {width: 0;}#sk-container-id-1 div.sk-dashed-wrapped {border: 1px dashed gray;margin: 0 0.4em 0.5em 0.4em;box-sizing: border-box;padding-bottom: 0.4em;background-color: white;}#sk-container-id-1 div.sk-label label {font-family: monospace;font-weight: bold;display: inline-block;line-height: 1.2em;}#sk-container-id-1 div.sk-label-container {text-align: center;}#sk-container-id-1 div.sk-container {/* jupyter's `normalize.less` sets `[hidden] { display: none; }` but bootstrap.min.css set `[hidden] { display: none !important; }` so we also need the `!important` here to be able to override the default hidden behavior on the sphinx rendered scikit-learn.org. See: https://github.com/scikit-learn/scikit-learn/issues/21755 */display: inline-block !important;position: relative;}#sk-container-id-1 div.sk-text-repr-fallback {display: none;}</style><div id=\"sk-container-id-1\" class=\"sk-top-container\"><div class=\"sk-text-repr-fallback\"><pre>LogisticRegression(random_state=1, solver=&#x27;liblinear&#x27;)</pre><b>In a Jupyter environment, please rerun this cell to show the HTML representation or trust the notebook. <br />On GitHub, the HTML representation is unable to render, please try loading this page with nbviewer.org.</b></div><div class=\"sk-container\" hidden><div class=\"sk-item\"><div class=\"sk-estimator sk-toggleable\"><input class=\"sk-toggleable__control sk-hidden--visually\" id=\"sk-estimator-id-1\" type=\"checkbox\" checked><label for=\"sk-estimator-id-1\" class=\"sk-toggleable__label sk-toggleable__label-arrow\">LogisticRegression</label><div class=\"sk-toggleable__content\"><pre>LogisticRegression(random_state=1, solver=&#x27;liblinear&#x27;)</pre></div></div></div></div></div>"
     },
     "execution_count": 32,
     "metadata": {},
     "output_type": "execute_result"
    }
   ],
   "source": [
    "# Trainning Logistic Regression\n",
    "\n",
    "from sklearn.linear_model import LogisticRegression\n",
    "\n",
    "model = LogisticRegression(solver='liblinear', random_state=1)\n",
    "model.fit(X_train, y_train)"
   ],
   "metadata": {
    "collapsed": false,
    "ExecuteTime": {
     "end_time": "2024-04-26T13:14:55.133759100Z",
     "start_time": "2024-04-26T13:14:54.211703Z"
    }
   },
   "id": "eec385aa2954a5cd",
   "execution_count": 32
  },
  {
   "cell_type": "code",
   "outputs": [],
   "source": [
    "def prepare_data(df):\n",
    "    train_dict = df[categorical+numerical].to_dict(orient='records')\n",
    "    X = dv.transform(train_dict)\n",
    "    return X"
   ],
   "metadata": {
    "collapsed": false,
    "ExecuteTime": {
     "end_time": "2024-04-26T13:14:55.134264400Z",
     "start_time": "2024-04-26T13:14:54.328391300Z"
    }
   },
   "id": "91a854f8bb87156",
   "execution_count": 33
  },
  {
   "cell_type": "code",
   "outputs": [
    {
     "data": {
      "text/plain": "array([[0.99142712, 0.00857288],\n       [0.7902862 , 0.2097138 ],\n       [0.78364348, 0.21635652],\n       ...,\n       [0.35664268, 0.64335732],\n       [0.81055864, 0.18944136],\n       [0.87261876, 0.12738124]])"
     },
     "execution_count": 34,
     "metadata": {},
     "output_type": "execute_result"
    }
   ],
   "source": [
    "X_val = prepare_data(df_val)\n",
    "\n",
    "y_pred = model.predict_proba(X_val)\n",
    "y_pred"
   ],
   "metadata": {
    "collapsed": false,
    "ExecuteTime": {
     "end_time": "2024-04-26T13:14:55.247263100Z",
     "start_time": "2024-04-26T13:14:54.335980Z"
    }
   },
   "id": "cf8a9b5b52dd4060",
   "execution_count": 34
  },
  {
   "cell_type": "code",
   "outputs": [],
   "source": [
    "y_pred = y_pred[:, 1]\n",
    "churn = y_pred >= 0.5"
   ],
   "metadata": {
    "collapsed": false,
    "ExecuteTime": {
     "end_time": "2024-04-26T13:14:55.248327200Z",
     "start_time": "2024-04-26T13:14:54.390140200Z"
    }
   },
   "id": "31f0a5d000e35628",
   "execution_count": 35
  },
  {
   "cell_type": "code",
   "outputs": [
    {
     "data": {
      "text/plain": "0.8048387096774193"
     },
     "execution_count": 36,
     "metadata": {},
     "output_type": "execute_result"
    }
   ],
   "source": [
    "(y_val == churn).mean()"
   ],
   "metadata": {
    "collapsed": false,
    "ExecuteTime": {
     "end_time": "2024-04-26T13:14:55.249952900Z",
     "start_time": "2024-04-26T13:14:54.395194600Z"
    }
   },
   "id": "44865c2f92e1cbe7",
   "execution_count": 36
  },
  {
   "cell_type": "code",
   "outputs": [
    {
     "data": {
      "text/plain": "array([[ 5.84237812e-01],\n       [-4.77724120e-02],\n       [-6.44486170e-01],\n       [-3.35527780e-02],\n       [-7.44679914e-02],\n       [ 4.98441875e-02],\n       [-9.53374940e-02],\n       [-6.25274628e-02],\n       [-3.85713002e-02],\n       [-6.94494692e-02],\n       [-3.63238008e-01],\n       [ 3.50554732e-01],\n       [-9.53374940e-02],\n       [ 2.85154212e-03],\n       [-2.63728527e-01],\n       [ 1.70176991e-01],\n       [-1.44692332e-02],\n       [ 5.98870936e-02],\n       [-9.53374940e-02],\n       [-7.25703689e-02],\n       [ 2.21823163e-01],\n       [-9.53374940e-02],\n       [-2.34506439e-01],\n       [-2.42300150e-01],\n       [ 1.34279380e-01],\n       [-1.34595056e-01],\n       [ 2.65742871e-02],\n       [-6.25979102e-02],\n       [-1.42045883e-02],\n       [ 4.11059194e-02],\n       [-7.23241904e-02],\n       [ 1.70176991e-01],\n       [-2.78197760e-01],\n       [ 1.99708769e-01],\n       [-1.11942236e-01],\n       [-9.53374940e-02],\n       [ 9.92589605e-02],\n       [-4.19318195e-02],\n       [-9.53374940e-02],\n       [ 2.92485442e-02],\n       [ 1.83069139e-01],\n       [-9.53374940e-02],\n       [-1.95752415e-01],\n       [-6.73809136e-02],\n       [ 3.74388309e-04]])"
     },
     "execution_count": 37,
     "metadata": {},
     "output_type": "execute_result"
    }
   ],
   "source": [
    "model.coef_.T"
   ],
   "metadata": {
    "collapsed": false,
    "ExecuteTime": {
     "end_time": "2024-04-26T13:14:55.251842400Z",
     "start_time": "2024-04-26T13:14:54.400796800Z"
    }
   },
   "id": "9764c07ebbe3b82e",
   "execution_count": 37
  },
  {
   "cell_type": "code",
   "outputs": [],
   "source": [
    "weights = dict(zip(dv.get_feature_names_out(), model.coef_[0].round(3)))"
   ],
   "metadata": {
    "collapsed": false,
    "ExecuteTime": {
     "end_time": "2024-04-26T13:14:55.284258500Z",
     "start_time": "2024-04-26T13:14:54.408224700Z"
    }
   },
   "id": "9b5ba846b53bc89f",
   "execution_count": 38
  },
  {
   "cell_type": "code",
   "outputs": [],
   "source": [
    "sample_customer = {\n",
    "'gender': 'female',\n",
    "'seniorcitizen': 1,\n",
    "'partner': 'no',\n",
    "'dependents': 'no',\n",
    "'phoneservice': 'yes',\n",
    "'multiplelines': 'yes',\n",
    "'internetservice': 'fiber_optic',\n",
    "'onlinesecurity': 'no',\n",
    "'onlinebackup': 'no',\n",
    "'deviceprotection': 'no',\n",
    "'techsupport': 'no',\n",
    "'streamingtv': 'yes',\n",
    "'streamingmovies': 'no',\n",
    "'contract': 'month-to-month',\n",
    "'paperlessbilling': 'yes',\n",
    "'paymentmethod': 'electronic_check',\n",
    "'tenure': 1,\n",
    "'monthlycharges': 85.7,\n",
    "'totalcharges': 85.7\n",
    "}"
   ],
   "metadata": {
    "collapsed": false,
    "ExecuteTime": {
     "end_time": "2024-04-26T13:14:55.285269700Z",
     "start_time": "2024-04-26T13:14:54.411973500Z"
    }
   },
   "id": "cae7ec81887d7ccb",
   "execution_count": 39
  },
  {
   "cell_type": "code",
   "outputs": [
    {
     "data": {
      "text/plain": "0.7930634378770952"
     },
     "execution_count": 40,
     "metadata": {},
     "output_type": "execute_result"
    }
   ],
   "source": [
    "X_test = dv.transform([sample_customer])\n",
    "y_test = model.predict_proba(X_test)[0, 1]\n",
    "y_test"
   ],
   "metadata": {
    "collapsed": false,
    "ExecuteTime": {
     "end_time": "2024-04-26T13:14:55.332909100Z",
     "start_time": "2024-04-26T13:14:54.416938900Z"
    }
   },
   "id": "32446d04f2aec0c",
   "execution_count": 40
  },
  {
   "cell_type": "code",
   "outputs": [
    {
     "data": {
      "text/plain": "0.8048387096774193"
     },
     "execution_count": 41,
     "metadata": {},
     "output_type": "execute_result"
    }
   ],
   "source": [
    "# Calculate accuracy\n",
    "y_pred = model.predict_proba(X_val)[:, 1]\n",
    "churn = (y_pred >= 0.5)\n",
    "(churn == y_val).mean()"
   ],
   "metadata": {
    "collapsed": false,
    "ExecuteTime": {
     "end_time": "2024-04-26T13:14:55.333909700Z",
     "start_time": "2024-04-26T13:14:54.422749400Z"
    }
   },
   "id": "c4a12171328cc809",
   "execution_count": 41
  },
  {
   "cell_type": "code",
   "outputs": [
    {
     "name": "stdout",
     "output_type": "stream",
     "text": [
      "t:0.0, acc:0.27\n",
      "t:0.1, acc:0.59\n",
      "t:0.2, acc:0.69\n",
      "t:0.3, acc:0.75\n",
      "t:0.4, acc:0.78\n",
      "t:0.5, acc:0.8\n",
      "t:0.6, acc:0.8\n",
      "t:0.7, acc:0.77\n",
      "t:0.8, acc:0.73\n",
      "t:0.9, acc:0.73\n",
      "t:1.0, acc:0.73\n"
     ]
    }
   ],
   "source": [
    "from sklearn.metrics import accuracy_score\n",
    "\n",
    "thresholds = np.linspace(0, 1, 11)\n",
    "\n",
    "for t in thresholds:\n",
    "    y_pred = model.predict_proba(X_val)[:, 1]\n",
    "    churn = (y_pred >= t)\n",
    "    acc = accuracy_score(churn, y_val)\n",
    "    print(f't:{round(t, 2)}, acc:{round(acc, 2)}')\n"
   ],
   "metadata": {
    "collapsed": false,
    "ExecuteTime": {
     "end_time": "2024-04-26T13:18:42.408702Z",
     "start_time": "2024-04-26T13:18:42.385427400Z"
    }
   },
   "id": "107ceca76bb0dc18",
   "execution_count": 46
  },
  {
   "cell_type": "code",
   "outputs": [
    {
     "data": {
      "text/plain": "Text(0, 0.5, 'Accuracy')"
     },
     "execution_count": 51,
     "metadata": {},
     "output_type": "execute_result"
    },
    {
     "data": {
      "text/plain": "<Figure size 640x480 with 1 Axes>",
      "image/png": "[encoded data removed]"
     },
     "metadata": {},
     "output_type": "display_data"
    }
   ],
   "source": [
    "import matplotlib.pyplot as plt\n",
    "\n",
    "thresholds = np.linspace(0, 1, 21)\n",
    "accuracies = []\n",
    "\n",
    "for t in thresholds:\n",
    "    y_pred = model.predict_proba(X_val)[:, 1]\n",
    "    churn = (y_pred >= t)\n",
    "    acc = accuracy_score(churn, y_val)\n",
    "    accuracies.append(acc)\n",
    "    \n",
    "plt.plot(thresholds, accuracies)\n",
    "plt.title('Threshold vs Accuracy')\n",
    "plt.xlabel('Threshold')\n",
    "plt.ylabel('Accuracy')"
   ],
   "metadata": {
    "collapsed": false,
    "ExecuteTime": {
     "end_time": "2024-04-26T13:21:39.416885500Z",
     "start_time": "2024-04-26T13:21:39.263747800Z"
    }
   },
   "id": "702efdea53d29268",
   "execution_count": 51
  },
  {
   "cell_type": "code",
   "outputs": [],
   "source": [
    "def train(df, y, C=1.0):\n",
    "    cat = df[categorical + numerical].to_dict(orient='records')\n",
    "\n",
    "    dv = DictVectorizer(sparse=False)\n",
    "    dv.fit(cat)\n",
    "\n",
    "    X = dv.transform(cat)\n",
    "\n",
    "    model = LogisticRegression(solver='liblinear', C=C)\n",
    "    model.fit(X, y)\n",
    "\n",
    "    return dv, model\n",
    "\n",
    "def predict(df, dv, model):\n",
    "    cat = df[categorical + numerical].to_dict(orient='records')\n",
    "\n",
    "    X = dv.transform(cat)\n",
    "\n",
    "    y_pred = model.predict_proba(X)[:, 1]\n",
    "\n",
    "    return y_pred"
   ],
   "metadata": {
    "collapsed": false,
    "ExecuteTime": {
     "end_time": "2024-04-26T17:41:40.194974500Z",
     "start_time": "2024-04-26T17:41:40.182708Z"
    }
   },
   "id": "8322b7485efe692a",
   "execution_count": 53
  },
  {
   "cell_type": "code",
   "outputs": [
    {
     "name": "stdout",
     "output_type": "stream",
     "text": [
      "auc = 0.858\n"
     ]
    }
   ],
   "source": [
    "from sklearn.metrics import roc_auc_score\n",
    "\n",
    "y_train = df_train_full.churn.values\n",
    "y_test = df_test.churn.values\n",
    "\n",
    "dv, model = train(df_train_full, y_train, C=0.5)\n",
    "y_pred = predict(df_test, dv, model)\n",
    "\n",
    "auc = roc_auc_score(y_test, y_pred)\n",
    "print('auc = %.3f' % auc)"
   ],
   "metadata": {
    "collapsed": false,
    "ExecuteTime": {
     "end_time": "2024-04-26T17:41:44.018267800Z",
     "start_time": "2024-04-26T17:41:43.771476900Z"
    }
   },
   "id": "5b1b39d4e21b5de0",
   "execution_count": 54
  },
  {
   "cell_type": "code",
   "outputs": [],
   "source": [
    "import pickle\n",
    "\n",
    "with open('churn-model.bin', 'wb') as f_out:\n",
    "    pickle.dump((dv, model), f_out)"
   ],
   "metadata": {
    "collapsed": false,
    "ExecuteTime": {
     "end_time": "2024-04-26T17:51:57.137918500Z",
     "start_time": "2024-04-26T17:51:57.103492100Z"
    }
   },
   "id": "b81207649cc79a43",
   "execution_count": 55
  },
  {
   "cell_type": "code",
   "outputs": [],
   "source": [],
   "metadata": {
    "collapsed": false
   },
   "id": "3e3404f2758a86a8"
  }
 ],
 "metadata": {
  "kernelspec": {
   "display_name": "Python 3",
   "language": "python",
   "name": "python3"
  },
  "language_info": {
   "codemirror_mode": {
    "name": "ipython",
    "version": 2
   },
   "file_extension": ".py",
   "mimetype": "text/x-python",
   "name": "python",
   "nbconvert_exporter": "python",
   "pygments_lexer": "ipython2",
   "version": "2.7.6"
  }
 },
 "nbformat": 4,
 "nbformat_minor": 5
}
